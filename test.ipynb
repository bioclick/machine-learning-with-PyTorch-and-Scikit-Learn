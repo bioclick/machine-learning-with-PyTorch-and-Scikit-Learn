{
 "cells": [
  {
   "cell_type": "code",
   "execution_count": 2,
   "metadata": {},
   "outputs": [],
   "source": [
    "import os"
   ]
  },
  {
   "cell_type": "code",
   "execution_count": 3,
   "metadata": {},
   "outputs": [],
   "source": [
    "os.chdir(\"Chapters\")\n",
    "# os.chdir(\"..\")"
   ]
  },
  {
   "cell_type": "code",
   "execution_count": 4,
   "metadata": {},
   "outputs": [
    {
     "data": {
      "text/plain": [
       "'/home/npe/WGS/machine-learning-with-PyTorch-and-Scikit-Learn/Chapters'"
      ]
     },
     "execution_count": 4,
     "metadata": {},
     "output_type": "execute_result"
    }
   ],
   "source": [
    "os.getcwd()"
   ]
  },
  {
   "cell_type": "code",
   "execution_count": 5,
   "metadata": {},
   "outputs": [],
   "source": [
    "dirs = os.listdir()"
   ]
  },
  {
   "cell_type": "code",
   "execution_count": 6,
   "metadata": {},
   "outputs": [
    {
     "data": {
      "text/plain": [
       "['05-Data-Compression',\n",
       " '04-Pre-Processing',\n",
       " '07-Ensemble-Learning',\n",
       " '08-Sentiment-Analysis',\n",
       " '18-GNN',\n",
       " '02-Training',\n",
       " '10-Clustering',\n",
       " '06-Model-Evaluation',\n",
       " '11-Multi-Layer-Neural-Network',\n",
       " '13- PyTorch-In-Depth',\n",
       " '14-CNN',\n",
       " '17-GAN',\n",
       " '15-RNN',\n",
       " '03-Classifiers',\n",
       " '12-Parallelization',\n",
       " '16-NLP',\n",
       " '01-Machine-Learning-Overview',\n",
       " '19-RL',\n",
       " '09-Regression']"
      ]
     },
     "execution_count": 6,
     "metadata": {},
     "output_type": "execute_result"
    }
   ],
   "source": [
    "dirs"
   ]
  },
  {
   "cell_type": "code",
   "execution_count": 8,
   "metadata": {},
   "outputs": [],
   "source": [
    "for d in dirs:\n",
    "    path = os.path.join(os.getcwd(), d)\n",
    "    with open(os.path.join(path, f\"ch{d.split('-')[0]}.ipynb\"), \"w\") as file:\n",
    "        pass"
   ]
  },
  {
   "cell_type": "code",
   "execution_count": 17,
   "metadata": {},
   "outputs": [
    {
     "data": {
      "text/plain": [
       "'05'"
      ]
     },
     "execution_count": 17,
     "metadata": {},
     "output_type": "execute_result"
    }
   ],
   "source": [
    "dirs[0].split('-')[0]"
   ]
  },
  {
   "cell_type": "code",
   "execution_count": null,
   "metadata": {},
   "outputs": [],
   "source": []
  }
 ],
 "metadata": {
  "kernelspec": {
   "display_name": "Python 3",
   "language": "python",
   "name": "python3"
  },
  "language_info": {
   "codemirror_mode": {
    "name": "ipython",
    "version": 3
   },
   "file_extension": ".py",
   "mimetype": "text/x-python",
   "name": "python",
   "nbconvert_exporter": "python",
   "pygments_lexer": "ipython3",
   "version": "3.10.12"
  }
 },
 "nbformat": 4,
 "nbformat_minor": 2
}
