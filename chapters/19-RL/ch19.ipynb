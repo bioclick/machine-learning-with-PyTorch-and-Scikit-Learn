{
 "cells": [
  {
   "cell_type": "markdown",
   "metadata": {},
   "source": [
    "# Package version checks"
   ]
  },
  {
   "cell_type": "markdown",
   "metadata": {},
   "source": [
    "Add folder to path in order to load from the check_packages.py script:"
   ]
  },
  {
   "cell_type": "code",
   "execution_count": 1,
   "metadata": {},
   "outputs": [],
   "source": [
    "import sys\n",
    "sys.path.insert(0, '..')"
   ]
  },
  {
   "cell_type": "markdown",
   "metadata": {},
   "source": [
    "Check recommended package versions:"
   ]
  },
  {
   "cell_type": "code",
   "execution_count": 2,
   "metadata": {
    "tags": []
   },
   "outputs": [
    {
     "name": "stdout",
     "output_type": "stream",
     "text": [
      "[OK] Your Python version is 3.9.6 | packaged by conda-forge | (default, Jul 11 2021, 03:35:11) \n",
      "[Clang 11.1.0 ]\n",
      "[OK] torch 1.10.0\n",
      "[OK] numpy 1.22.0\n",
      "[OK] matplotlib 3.5.1\n",
      "[OK] gym 0.21.0\n"
     ]
    }
   ],
   "source": [
    "from python_environment_check import check_packages\n",
    "\n",
    "d = {\n",
    "    'torch': '1.8.0',\n",
    "    'numpy': '1.21.2',\n",
    "    'matplotlib': '3.4.3',\n",
    "    'gym': '0.20.0'\n",
    "}\n",
    "\n",
    "check_packages(d)"
   ]
  },
  {
   "cell_type": "markdown",
   "metadata": {},
   "source": [
    "# RL with OpenAI Gym"
   ]
  },
  {
   "cell_type": "markdown",
   "metadata": {},
   "source": [
    "- !pip install gym\n",
    "- !pip install pygame"
   ]
  },
  {
   "cell_type": "markdown",
   "metadata": {},
   "source": [
    "## With Random Agent"
   ]
  },
  {
   "cell_type": "code",
   "execution_count": 3,
   "metadata": {},
   "outputs": [
    {
     "name": "stdout",
     "output_type": "stream",
     "text": [
      "Episode; 1 Score: 22.0\n",
      "Episode; 2 Score: 16.0\n",
      "Episode; 3 Score: 23.0\n",
      "Episode; 4 Score: 31.0\n",
      "Episode; 5 Score: 10.0\n",
      "Episode; 6 Score: 18.0\n",
      "Episode; 7 Score: 53.0\n",
      "Episode; 8 Score: 21.0\n",
      "Episode; 9 Score: 17.0\n",
      "Episode; 10 Score: 15.0\n"
     ]
    }
   ],
   "source": [
    "import random\n",
    "import gym  # pip install gym==0.25.2\n",
    "\n",
    "env = gym.make(\"CartPole-v1\", render_mode=\"human\")\n",
    "\n",
    "episodes = 10\n",
    "for episode in range(1, episodes+1):\n",
    "    state = env.reset()\n",
    "    done = False\n",
    "    score = 0\n",
    "\n",
    "    while not done:  # try alternatively while True to see full fail\n",
    "        action = random.choice([0, 1])\n",
    "        n_state, reward, done, _, info = env.step(action)  # in newer version five arguments (truncated between done and info)\n",
    "        score += reward\n",
    "        env.render()  # need pip install pyglet\n",
    "\n",
    "    print(f\"Episode; {episode} Score: {score}\")\n",
    "\n",
    "env.close()"
   ]
  }
 ],
 "metadata": {
  "kernelspec": {
   "display_name": "Python 3 (ipykernel)",
   "language": "python",
   "name": "python3"
  },
  "language_info": {
   "codemirror_mode": {
    "name": "ipython",
    "version": 3
   },
   "file_extension": ".py",
   "mimetype": "text/x-python",
   "name": "python",
   "nbconvert_exporter": "python",
   "pygments_lexer": "ipython3",
   "version": "3.10.12"
  }
 },
 "nbformat": 4,
 "nbformat_minor": 4
}
