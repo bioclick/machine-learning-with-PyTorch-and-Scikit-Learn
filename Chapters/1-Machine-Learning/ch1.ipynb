{
 "cells": [
  {
   "cell_type": "markdown",
   "metadata": {},
   "source": [
    "# Welcome To The Machine Learning World! 👋"
   ]
  },
  {
   "cell_type": "markdown",
   "metadata": {},
   "source": [
    "## Here we want to start a journey and learn everything from sctrach. Therefore, no need to worry about not having a robust backgroung in this field of study."
   ]
  },
  {
   "cell_type": "markdown",
   "metadata": {},
   "source": []
  }
 ],
 "metadata": {
  "language_info": {
   "name": "python"
  }
 },
 "nbformat": 4,
 "nbformat_minor": 2
}
